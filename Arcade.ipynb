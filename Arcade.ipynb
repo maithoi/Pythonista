{
  "nbformat": 4,
  "nbformat_minor": 0,
  "metadata": {
    "colab": {
      "name": "Arcade.ipynb",
      "provenance": [],
      "authorship_tag": "ABX9TyOXgsWYoubq4kzV4vlRg03U",
      "include_colab_link": true
    },
    "kernelspec": {
      "name": "python3",
      "display_name": "Python 3"
    }
  },
  "cells": [
    {
      "cell_type": "markdown",
      "metadata": {
        "id": "view-in-github",
        "colab_type": "text"
      },
      "source": [
        "<a href=\"https://colab.research.google.com/github/maithoi/Pythonista/blob/master/Arcade.ipynb\" target=\"_parent\"><img src=\"https://colab.research.google.com/assets/colab-badge.svg\" alt=\"Open In Colab\"/></a>"
      ]
    },
    {
      "cell_type": "markdown",
      "metadata": {
        "id": "K7WZviDiX9ei",
        "colab_type": "text"
      },
      "source": [
        "# [$Markdown$](https://colab.research.google.com/github/gitedio/examples/blob/master/Working%20With%20Markdown%20Cells.ipynb#scrollTo=BMwHlyDAUm9v)\n"
      ]
    },
    {
      "cell_type": "markdown",
      "metadata": {
        "id": "W9Xv9ijnx-9S",
        "colab_type": "text"
      },
      "source": [
        "## getPoints \n"
      ]
    },
    {
      "cell_type": "code",
      "metadata": {
        "id": "wkPvXgU7vss9",
        "colab_type": "code",
        "colab": {}
      },
      "source": [
        "def getPoints(answers, p):\n",
        "    # return a integer value corresponding with Ith index or penalty score \n",
        "    questionPoints = lambda i, ans: i+1 if ans else -p \n",
        "    res = 0\n",
        "    for i, ans in enumerate(answers):\n",
        "        res += questionPoints(i, ans)\n",
        "    return res"
      ],
      "execution_count": null,
      "outputs": []
    },
    {
      "cell_type": "code",
      "metadata": {
        "id": "fTff9fV7yRjC",
        "colab_type": "code",
        "colab": {
          "base_uri": "https://localhost:8080/",
          "height": 35
        },
        "outputId": "fc46ebc3-3b72-4482-c4d5-bd9e46444752"
      },
      "source": [
        "lst = [True, True, False, True]\n",
        "getPoints(lst, -2)"
      ],
      "execution_count": null,
      "outputs": [
        {
          "output_type": "execute_result",
          "data": {
            "text/plain": [
              "9"
            ]
          },
          "metadata": {
            "tags": []
          },
          "execution_count": 5
        }
      ]
    },
    {
      "cell_type": "markdown",
      "metadata": {
        "id": "6E9-1HsK4kUT",
        "colab_type": "text"
      },
      "source": [
        "## Is Test Solvable"
      ]
    },
    {
      "cell_type": "code",
      "metadata": {
        "id": "m9wxpKXiyVpe",
        "colab_type": "code",
        "colab": {}
      },
      "source": [
        "def isTestSolvable(ids, k):\n",
        "    digitSum = lambda number: 0 if number == 0 else (number % 10) + digitSum(number//10)\n",
        "\n",
        "    sm = 0\n",
        "    for questionId in ids:\n",
        "        sm += digitSum(questionId)\n",
        "    return sm % k == 0"
      ],
      "execution_count": null,
      "outputs": []
    },
    {
      "cell_type": "code",
      "metadata": {
        "id": "L4LxleAO4vkO",
        "colab_type": "code",
        "colab": {
          "base_uri": "https://localhost:8080/",
          "height": 35
        },
        "outputId": "7fb55436-ad9a-47f8-bfc1-3553488af466"
      },
      "source": [
        "101 / 10"
      ],
      "execution_count": null,
      "outputs": [
        {
          "output_type": "execute_result",
          "data": {
            "text/plain": [
              "10.1"
            ]
          },
          "metadata": {
            "tags": []
          },
          "execution_count": 14
        }
      ]
    },
    {
      "cell_type": "code",
      "metadata": {
        "id": "uMYXVe184zDG",
        "colab_type": "code",
        "colab": {
          "base_uri": "https://localhost:8080/",
          "height": 35
        },
        "outputId": "56b1b27a-e106-4a20-ee81-d6c834667ed9"
      },
      "source": [
        "101 // 10"
      ],
      "execution_count": null,
      "outputs": [
        {
          "output_type": "execute_result",
          "data": {
            "text/plain": [
              "10"
            ]
          },
          "metadata": {
            "tags": []
          },
          "execution_count": 13
        }
      ]
    },
    {
      "cell_type": "code",
      "metadata": {
        "id": "2ddouBGr43xh",
        "colab_type": "code",
        "colab": {
          "base_uri": "https://localhost:8080/",
          "height": 35
        },
        "outputId": "0d885c33-7cc4-4612-a470-7ecb9504c595"
      },
      "source": [
        "101 % 10"
      ],
      "execution_count": null,
      "outputs": [
        {
          "output_type": "execute_result",
          "data": {
            "text/plain": [
              "1"
            ]
          },
          "metadata": {
            "tags": []
          },
          "execution_count": 12
        }
      ]
    },
    {
      "cell_type": "markdown",
      "metadata": {
        "id": "VoTHc_tU86pk",
        "colab_type": "text"
      },
      "source": [
        "## Word Power "
      ]
    },
    {
      "cell_type": "code",
      "metadata": {
        "id": "7iDpE2oP882f",
        "colab_type": "code",
        "colab": {}
      },
      "source": [
        "def wordPower(word):\n",
        "    num = {ch:ord(word[idx]) &31 for idx, ch in enumerate(word)}\n",
        "    print(num)\n",
        "    return sum([num[ch] for ch in word])"
      ],
      "execution_count": null,
      "outputs": []
    },
    {
      "cell_type": "code",
      "metadata": {
        "id": "iz9tLREL8_d-",
        "colab_type": "code",
        "colab": {
          "base_uri": "https://localhost:8080/",
          "height": 53
        },
        "outputId": "17200256-feef-4bc5-dfeb-e0cba9adf4b4"
      },
      "source": [
        "wordPower('hello')"
      ],
      "execution_count": null,
      "outputs": [
        {
          "output_type": "stream",
          "text": [
            "{'h': 8, 'e': 5, 'l': 12, 'o': 15}\n"
          ],
          "name": "stdout"
        },
        {
          "output_type": "execute_result",
          "data": {
            "text/plain": [
              "52"
            ]
          },
          "metadata": {
            "tags": []
          },
          "execution_count": 26
        }
      ]
    },
    {
      "cell_type": "markdown",
      "metadata": {
        "id": "_AsLZ4J1QKVz",
        "colab_type": "text"
      },
      "source": [
        "# Day4 (30/6)\n",
        "## Cool Paris \n"
      ]
    },
    {
      "cell_type": "code",
      "metadata": {
        "id": "lEz4IWDIQMKL",
        "colab_type": "code",
        "colab": {}
      },
      "source": [
        "def coolPairs(a, b):\n",
        "    uniqueSums = {(i+j) for i in a for j in b if (i*j) % (i+j) ==0}\n",
        "    return len(uniqueSums)\n"
      ],
      "execution_count": null,
      "outputs": []
    },
    {
      "cell_type": "code",
      "metadata": {
        "id": "X-5h2SebUNVe",
        "colab_type": "code",
        "colab": {}
      },
      "source": [
        "a = [4, 5, 6, 7, 8]\n",
        "b = [8, 9, 10, 11, 12]"
      ],
      "execution_count": null,
      "outputs": []
    },
    {
      "cell_type": "code",
      "metadata": {
        "id": "CexZf4zeURNZ",
        "colab_type": "code",
        "colab": {
          "base_uri": "https://localhost:8080/",
          "height": 35
        },
        "outputId": "2016901f-57be-4498-dde5-1fd9faac1e0a"
      },
      "source": [
        "coolPairs(a, b)"
      ],
      "execution_count": null,
      "outputs": [
        {
          "output_type": "execute_result",
          "data": {
            "text/plain": [
              "2"
            ]
          },
          "metadata": {
            "tags": []
          },
          "execution_count": 7
        }
      ]
    },
    {
      "cell_type": "markdown",
      "metadata": {
        "id": "MnhVp7zZUyot",
        "colab_type": "text"
      },
      "source": [
        "## Multiplication Table \n",
        "```\n",
        "\n",
        "multiplicationTable(n) = [[1, 2,  3,  4,  5 ], \n",
        "                          [2, 4,  6,  8,  10], \n",
        "                          [3, 6,  9,  12, 15], \n",
        "                          [4, 8,  12, 16, 20], \n",
        "                          [5, 10, 15, 20, 25]]\n",
        "\n",
        "```\n",
        "\n",
        "* Multiplication table of size `n × n`, i.e. a square matrix that has value `i * j` at the intersection of the ith row and the jth column (both 1-based).\n"
      ]
    },
    {
      "cell_type": "code",
      "metadata": {
        "id": "TjFPP-vfUW0e",
        "colab_type": "code",
        "colab": {}
      },
      "source": [
        "def multiplicationTable(n):\n",
        "    return [[(i+1)*(j+1) for j in range(n)] for i in range(n)]"
      ],
      "execution_count": null,
      "outputs": []
    },
    {
      "cell_type": "code",
      "metadata": {
        "id": "CAv8r8WGW8cl",
        "colab_type": "code",
        "colab": {
          "base_uri": "https://localhost:8080/",
          "height": 107
        },
        "outputId": "61168f36-da96-415e-cf23-7fa277424522"
      },
      "source": [
        "multiplicationTable(5)"
      ],
      "execution_count": null,
      "outputs": [
        {
          "output_type": "execute_result",
          "data": {
            "text/plain": [
              "[[1, 2, 3, 4, 5],\n",
              " [2, 4, 6, 8, 10],\n",
              " [3, 6, 9, 12, 15],\n",
              " [4, 8, 12, 16, 20],\n",
              " [5, 10, 15, 20, 25]]"
            ]
          },
          "metadata": {
            "tags": []
          },
          "execution_count": 11
        }
      ]
    },
    {
      "cell_type": "markdown",
      "metadata": {
        "id": "iX-O1fF8YREs",
        "colab_type": "text"
      },
      "source": [
        "# Dictionaries "
      ]
    },
    {
      "cell_type": "markdown",
      "metadata": {
        "id": "a0vN5KQRcY4R",
        "colab_type": "text"
      },
      "source": [
        "## Unique Characters \n",
        "\n",
        "* Sort input string in ascending order by their ASCII codes\n",
        "    - To get the ASCII code of character \n",
        "in python3 we used `ord()` function\n",
        "\n",
        "    - [Get sorted using Lambda function](https://dev.to/zmbailey/getting-sorted-part-3-python-and-lambda-functions-28ij)\n",
        "\n",
        "\n",
        "### Examples\n",
        "\n",
        "For `document = \"Todd told Tom to trot to the timber\"`,\n",
        "the output should be\n",
        "`uniqueCharacters(document) = [' ', 'T', 'b', 'd', 'e', 'h', 'i', 'l', 'm', 'o', 'r', 't']`.\n",
        "\n",
        "\n"
      ]
    },
    {
      "cell_type": "code",
      "metadata": {
        "id": "RVytT7h3W-Nq",
        "colab_type": "code",
        "colab": {}
      },
      "source": [
        "def uniqueCharacters(document):\n",
        "    return [char for char in sorted(list(set(document)), key=lambda x: ord(x))]\n"
      ],
      "execution_count": null,
      "outputs": []
    },
    {
      "cell_type": "code",
      "metadata": {
        "id": "pJo6aA5ddkzO",
        "colab_type": "code",
        "colab": {
          "base_uri": "https://localhost:8080/",
          "height": 35
        },
        "outputId": "5470ae26-8f04-40f3-d412-a5f31e5ff3da"
      },
      "source": [
        "document = \"Todd told Tom to trot to the timber\"\n",
        "uniqueCharacters(document)"
      ],
      "execution_count": null,
      "outputs": [
        {
          "output_type": "execute_result",
          "data": {
            "text/plain": [
              "[' ', 'T', 'b', 'd', 'e', 'h', 'i', 'l', 'm', 'o', 'r', 't']"
            ]
          },
          "metadata": {
            "tags": []
          },
          "execution_count": 14
        }
      ]
    },
    {
      "cell_type": "markdown",
      "metadata": {
        "id": "wYvZF6g0v_Px",
        "colab_type": "text"
      },
      "source": [
        "# Day5 (1/7)"
      ]
    },
    {
      "cell_type": "markdown",
      "metadata": {
        "id": "516pKq6Mwq_A",
        "colab_type": "text"
      },
      "source": [
        "## Fix Result \n",
        "* Using map() function to apply another calculation to a given list"
      ]
    },
    {
      "cell_type": "code",
      "metadata": {
        "id": "FRLcS-vKwE23",
        "colab_type": "code",
        "colab": {}
      },
      "source": [
        "def fixResult(result):\n",
        "    def fix(x):\n",
        "        return x // 10\n",
        "\n",
        "    return list(map(fix, result))"
      ],
      "execution_count": null,
      "outputs": []
    },
    {
      "cell_type": "code",
      "metadata": {
        "id": "0t9Zl9Wiyalp",
        "colab_type": "code",
        "colab": {
          "base_uri": "https://localhost:8080/",
          "height": 35
        },
        "outputId": "d2dec7eb-3ce5-4326-973e-482042e3f3af"
      },
      "source": [
        "result = [1, 10, 21, 22, 30]\n",
        "fixResult(result)"
      ],
      "execution_count": null,
      "outputs": [
        {
          "output_type": "execute_result",
          "data": {
            "text/plain": [
              "[0, 1, 2, 2, 3]"
            ]
          },
          "metadata": {
            "tags": []
          },
          "execution_count": 4
        }
      ]
    },
    {
      "cell_type": "markdown",
      "metadata": {
        "id": "EKDX-Tkwx1c7",
        "colab_type": "text"
      },
      "source": [
        "## College Courses \n",
        "Given a list of `courses`, remove the courses with titles consisting of `x` letters and return the result.\n",
        "\n",
        "For `x = 7` and\n",
        "`courses = [\"Art\", \"Finance\", \"Business\", \"Speech\", \"History\", \"Writing\", \"Statistics\"]`,\n",
        "the output should be\n",
        "`collegeCourses(x, courses) = [\"Art\", \"Business\", \"Speech\", \"Statistics\"]`.\n"
      ]
    },
    {
      "cell_type": "code",
      "metadata": {
        "id": "oA9u0vPtxL8x",
        "colab_type": "code",
        "colab": {}
      },
      "source": [
        "def collegeCourses(x, courses):\n",
        "    def shouldConsider(course):\n",
        "        return len(course) != x\n",
        "\n",
        "    return list(filter(shouldConsider, courses))"
      ],
      "execution_count": null,
      "outputs": []
    },
    {
      "cell_type": "code",
      "metadata": {
        "id": "A-7vZvcfyRhs",
        "colab_type": "code",
        "colab": {
          "base_uri": "https://localhost:8080/",
          "height": 35
        },
        "outputId": "1cdf6d68-8718-4989-d39c-f8f2841b0843"
      },
      "source": [
        "courses = [\"Art\", \"Finance\", \"Business\", \"Speech\", \"History\", \"Writing\", \"Statistics\"]\n",
        "collegeCourses(7, courses)"
      ],
      "execution_count": null,
      "outputs": [
        {
          "output_type": "execute_result",
          "data": {
            "text/plain": [
              "['Art', 'Business', 'Speech', 'Statistics']"
            ]
          },
          "metadata": {
            "tags": []
          },
          "execution_count": 3
        }
      ]
    },
    {
      "cell_type": "markdown",
      "metadata": {
        "id": "9YIH6iVK0TDl",
        "colab_type": "text"
      },
      "source": [
        "## Create Histogram\n",
        "For `ch = '*'` and `assignments = [12, 12, 14, 3, 12, 15, 14]`,\n",
        "the output should be\n",
        "\n",
        "```\n",
        "createHistogram(ch, assignments) = [\"************\",\n",
        "                                    \"************\",\n",
        "                                    \"**************\",\n",
        "                                    \"***\",\n",
        "                                    \"************\",\n",
        "                                    \"***************\",\n",
        "                                    \"**************\"]\n",
        "```"
      ]
    },
    {
      "cell_type": "code",
      "metadata": {
        "id": "Vxm3ESiHyX2l",
        "colab_type": "code",
        "colab": {}
      },
      "source": [
        "def createHistogram(ch, assignments):\n",
        "    return list(map(lambda i: ch*i, assignments))"
      ],
      "execution_count": null,
      "outputs": []
    },
    {
      "cell_type": "code",
      "metadata": {
        "id": "2EwUA94u0iUp",
        "colab_type": "code",
        "colab": {
          "base_uri": "https://localhost:8080/",
          "height": 35
        },
        "outputId": "22560ad0-b7a8-4ccf-f0b2-d2b9df4c89f6"
      },
      "source": [
        "ch = '$'\n",
        "assignments = [1, 5, 10, 15, 20]\n",
        "createHistogram(ch, assignments)"
      ],
      "execution_count": null,
      "outputs": [
        {
          "output_type": "execute_result",
          "data": {
            "text/plain": [
              "['$', '$$$$$', '$$$$$$$$$$', '$$$$$$$$$$$$$$$', '$$$$$$$$$$$$$$$$$$$$']"
            ]
          },
          "metadata": {
            "tags": []
          },
          "execution_count": 9
        }
      ]
    },
    {
      "cell_type": "markdown",
      "metadata": {
        "id": "8ChyQlOC1fly",
        "colab_type": "text"
      },
      "source": [
        "## Least Common Denominator \n",
        "For `denominators = [2, 3, 4, 5, 6]`, the output should be\n",
        "`leastCommonDenominator(denominators) = 60`."
      ]
    },
    {
      "cell_type": "code",
      "metadata": {
        "id": "dRmAjg8w0udK",
        "colab_type": "code",
        "colab": {}
      },
      "source": [
        "# Function to calculate LCM\n",
        "#Least common multiple (LCM) of numbers a and b is defined as the smallest number that is divisible by both a and b.\n",
        "def lcm(x, y):\n",
        "    from fractions import gcd # or can import gcd from `math` in Python 3\n",
        "    return x * y // gcd(x, y)"
      ],
      "execution_count": null,
      "outputs": []
    },
    {
      "cell_type": "markdown",
      "metadata": {
        "id": "rn-pz31B6EYB",
        "colab_type": "text"
      },
      "source": [
        "For the given list of `denominators`, find the least common denominator by finding their `LCM`."
      ]
    },
    {
      "cell_type": "code",
      "metadata": {
        "id": "G9S-EIvq6sgz",
        "colab_type": "code",
        "cellView": "code",
        "colab": {}
      },
      "source": [
        "# Find LCM using GCD (Greatest Common Divisor) in the MATH library \n",
        "def lcm(a, b):\n",
        "    return abs(a*b) // math.gcd(a, b)"
      ],
      "execution_count": null,
      "outputs": []
    },
    {
      "cell_type": "code",
      "metadata": {
        "id": "XtX_t_kY5r5V",
        "colab_type": "code",
        "colab": {}
      },
      "source": [
        "import functools\n",
        "import math\n",
        "from fractions import gcd\n",
        "\n",
        "def leastCommonDenominator(denominators):\n",
        "    return functools.reduce(lambda x,y:abs(x*y) // math.gcd(x, y), denominators)"
      ],
      "execution_count": null,
      "outputs": []
    },
    {
      "cell_type": "code",
      "metadata": {
        "id": "PgIA5yAk6UFL",
        "colab_type": "code",
        "colab": {
          "base_uri": "https://localhost:8080/",
          "height": 35
        },
        "outputId": "cedda707-2b23-47cc-d28b-693c0966f664"
      },
      "source": [
        "denominators = [2, 3, 4, 5, 6]\n",
        "leastCommonDenominator(denominators)"
      ],
      "execution_count": null,
      "outputs": [
        {
          "output_type": "execute_result",
          "data": {
            "text/plain": [
              "60"
            ]
          },
          "metadata": {
            "tags": []
          },
          "execution_count": 19
        }
      ]
    },
    {
      "cell_type": "markdown",
      "metadata": {
        "id": "qGTw9BrBa-GU",
        "colab_type": "text"
      },
      "source": [
        "# Day6 (2/7)"
      ]
    },
    {
      "cell_type": "markdown",
      "metadata": {
        "id": "GvvubaW2cLjP",
        "colab_type": "text"
      },
      "source": [
        "## Correct Scholarships \n",
        "\n"
      ]
    },
    {
      "cell_type": "markdown",
      "metadata": {
        "id": "Spwh4AeiegFN",
        "colab_type": "text"
      },
      "source": [
        "`bestStudents` --> representing ids of the best students\n",
        "\n",
        "`scholarships` --> students that will get a scholarship\n",
        "\n",
        "`allStudents` --> all the students in th university \n",
        "\n",
        "`correctly distributed` ==> if all best students have it, but not all students in the university do\n",
        "\n",
        "---\n",
        "\n",
        "For `bestStudents = [3, 5]`, `scholarships = [3, 5, 7]`, and\n",
        "`allStudents = [1, 2, 3, 4, 5, 6, 7]`, the output should be\n",
        "`correctScholarships(bestStudents, scholarships, allStudents) = true`;\n",
        "\n",
        "---\n",
        "\n",
        "For `bestStudents = [3, 5]`, `scholarships = [3, 5]`, and\n",
        "`allStudents = [3, 5]`, the output should be\n",
        "`correctScholarships(bestStudents, scholarships, allStudents) = false`.\n",
        "\n",
        "---\n",
        "For `bestStudents = [3]`, `scholarships = [1, 3, 5]`, and\n",
        "`allStudents = [1, 2, 3]`, the output should be\n",
        "`correctScholarships(bestStudents, scholarships, allStudents) = false`\n",
        "\n"
      ]
    },
    {
      "cell_type": "code",
      "metadata": {
        "id": "RTmQ0DGNbBdv",
        "colab_type": "code",
        "colab": {
          "base_uri": "https://localhost:8080/",
          "height": 35
        },
        "outputId": "406105e6-4810-4af9-e668-fb8cb2ae36f7"
      },
      "source": [
        "a = [3, 5]\n",
        "b = [3, 5]\n",
        "set_a = set(a)\n",
        "set_b = set(b)\n",
        "set_a.issubset(set_b)\n",
        "\n",
        "print(a==b)"
      ],
      "execution_count": null,
      "outputs": [
        {
          "output_type": "stream",
          "text": [
            "True\n"
          ],
          "name": "stdout"
        }
      ]
    },
    {
      "cell_type": "markdown",
      "metadata": {
        "id": "6vDu3mL9nNX9",
        "colab_type": "text"
      },
      "source": [
        "* flow of thoughts \n",
        "1. check if all best students have scholarships \n",
        "2. check if all scholarships are correctly distributed to all students \n",
        "3. check that not all students have scholarships \n",
        "\n",
        "* technical expression\n",
        "\n",
        "[Check if Python list contains all elements of another list](https://www.techbeamers.com/program-python-list-contains-elements/#custom-search)\n"
      ]
    },
    {
      "cell_type": "code",
      "metadata": {
        "id": "jB2MSIOsjkuI",
        "colab_type": "code",
        "colab": {}
      },
      "source": [
        "def correctScholarships(bestStudents, scholarships, allStudents):\n",
        "    return all(best in scholarships for best in bestStudents) and all(scholar in allStudents for scholar in scholarships) and set(scholarships) != set(allStudents)"
      ],
      "execution_count": null,
      "outputs": []
    },
    {
      "cell_type": "code",
      "metadata": {
        "id": "a0wns3Brmumu",
        "colab_type": "code",
        "colab": {
          "base_uri": "https://localhost:8080/",
          "height": 35
        },
        "outputId": "a6b7c057-c17a-4f4a-c680-b79a38c81890"
      },
      "source": [
        "bestStudents = [3] \n",
        "scholarships = [1, 3, 5]\n",
        "allStudents = [1, 2, 3]\n",
        "\n",
        "correctScholarships(bestStudents, scholarships, allStudents)"
      ],
      "execution_count": null,
      "outputs": [
        {
          "output_type": "execute_result",
          "data": {
            "text/plain": [
              "False"
            ]
          },
          "metadata": {
            "tags": []
          },
          "execution_count": 10
        }
      ]
    },
    {
      "cell_type": "markdown",
      "metadata": {
        "id": "2BrCVCLXOlxf",
        "colab_type": "text"
      },
      "source": [
        "#Day7 (3/7) \n",
        "## Startup Name \n",
        "---\n",
        "[Set Mathematics Notation](https://www.rapidtables.com/math/symbols/Set_Symbols.html)\n"
      ]
    },
    {
      "cell_type": "code",
      "metadata": {
        "id": "ARy3Tnk2PBbZ",
        "colab_type": "code",
        "colab": {}
      },
      "source": [
        "companies = [\"coolcompany\", \"nicecompany\", \"legendarycompany\"]\n",
        "cmp1 = set(companies[0])\n",
        "cmp2 = set(companies[1])\n",
        "cmp3 = set(companies[2])"
      ],
      "execution_count": null,
      "outputs": []
    },
    {
      "cell_type": "code",
      "metadata": {
        "id": "uJgN7Gz2PGTr",
        "colab_type": "code",
        "colab": {
          "base_uri": "https://localhost:8080/",
          "height": 35
        },
        "outputId": "ae5c0336-38c9-4b0e-9ccd-5d1b27ceb52b"
      },
      "source": [
        "cmp1"
      ],
      "execution_count": null,
      "outputs": [
        {
          "output_type": "execute_result",
          "data": {
            "text/plain": [
              "{'a', 'c', 'l', 'm', 'n', 'o', 'p', 'y'}"
            ]
          },
          "metadata": {
            "tags": []
          },
          "execution_count": 3
        }
      ]
    },
    {
      "cell_type": "code",
      "metadata": {
        "id": "6wV3t2Y8PO6E",
        "colab_type": "code",
        "colab": {
          "base_uri": "https://localhost:8080/",
          "height": 35
        },
        "outputId": "b19729ec-c5fc-475e-dcec-2c4a557dcab5"
      },
      "source": [
        "cmp2 "
      ],
      "execution_count": null,
      "outputs": [
        {
          "output_type": "execute_result",
          "data": {
            "text/plain": [
              "{'a', 'c', 'e', 'i', 'm', 'n', 'o', 'p', 'y'}"
            ]
          },
          "metadata": {
            "tags": []
          },
          "execution_count": 4
        }
      ]
    },
    {
      "cell_type": "code",
      "metadata": {
        "id": "45e15MFXPQYb",
        "colab_type": "code",
        "colab": {
          "base_uri": "https://localhost:8080/",
          "height": 35
        },
        "outputId": "4a973143-78f1-4a3c-b7ab-df7d52976e20"
      },
      "source": [
        "cmp3"
      ],
      "execution_count": null,
      "outputs": [
        {
          "output_type": "execute_result",
          "data": {
            "text/plain": [
              "{'a', 'c', 'd', 'e', 'g', 'l', 'm', 'n', 'o', 'p', 'r', 'y'}"
            ]
          },
          "metadata": {
            "tags": []
          },
          "execution_count": 5
        }
      ]
    },
    {
      "cell_type": "code",
      "metadata": {
        "id": "trjWGfFRPRXi",
        "colab_type": "code",
        "colab": {}
      },
      "source": [
        "all = cmp1.union(cmp2, cmp3)"
      ],
      "execution_count": null,
      "outputs": []
    },
    {
      "cell_type": "code",
      "metadata": {
        "id": "n3tX4l04PcHu",
        "colab_type": "code",
        "colab": {}
      },
      "source": [
        "# intersection of all three set \n",
        "common = cmp1.intersection(cmp2, cmp3)"
      ],
      "execution_count": null,
      "outputs": []
    },
    {
      "cell_type": "code",
      "metadata": {
        "id": "qqhMhaU8SBOb",
        "colab_type": "code",
        "colab": {
          "base_uri": "https://localhost:8080/",
          "height": 35
        },
        "outputId": "e2a12b0d-758b-48e4-a1f8-daecea8e5c55"
      },
      "source": [
        "# objects that belong to cmp1 only \n",
        "only_cmp1 = cmp1.union(cmp2, cmp3)- cmp2.union(cmp3)"
      ],
      "execution_count": null,
      "outputs": [
        {
          "output_type": "execute_result",
          "data": {
            "text/plain": [
              "set()"
            ]
          },
          "metadata": {
            "tags": []
          },
          "execution_count": 14
        }
      ]
    },
    {
      "cell_type": "code",
      "metadata": {
        "id": "dhaeuAmdTTSa",
        "colab_type": "code",
        "colab": {}
      },
      "source": [
        "# objects that belong to cmp3 only\n",
        "only_cmp3 = cmp1.union(cmp2,cmp3) - cmp1.union(cmp2)"
      ],
      "execution_count": null,
      "outputs": []
    },
    {
      "cell_type": "code",
      "metadata": {
        "id": "vceXtgaBUZdC",
        "colab_type": "code",
        "colab": {}
      },
      "source": [
        "# objects that belong to cmp2 only\n",
        "only_cmp2 = cmp1.union(cmp2,cmp3) - cmp1.union(cmp3)"
      ],
      "execution_count": null,
      "outputs": []
    },
    {
      "cell_type": "code",
      "metadata": {
        "id": "X6loW8KAUgXi",
        "colab_type": "code",
        "colab": {}
      },
      "source": [
        "# popular names is the remaining objects of the subtraction of all unique objects in three subsets to \n",
        "# the only objects of each subset and the common objects of three subsets\n",
        "res = all - only_cmp1 - only_cmp2 - only_cmp3 - common "
      ],
      "execution_count": null,
      "outputs": []
    },
    {
      "cell_type": "code",
      "metadata": {
        "id": "kVfEYpVdVB1w",
        "colab_type": "code",
        "colab": {
          "base_uri": "https://localhost:8080/",
          "height": 35
        },
        "outputId": "d0ff96cb-2aa2-4c4c-99b8-46a05c360a1e"
      },
      "source": [
        "list(sorted(list(res)))"
      ],
      "execution_count": null,
      "outputs": [
        {
          "output_type": "execute_result",
          "data": {
            "text/plain": [
              "['e', 'l']"
            ]
          },
          "metadata": {
            "tags": []
          },
          "execution_count": 23
        }
      ]
    },
    {
      "cell_type": "code",
      "metadata": {
        "id": "34AO0edKVLlp",
        "colab_type": "code",
        "colab": {}
      },
      "source": [
        "def startupName(companies):\n",
        "    cmp1 = set(companies[0])\n",
        "    cmp2 = set(companies[1])\n",
        "    cmp3 = set(companies[2])\n",
        "    res = cmp1.union(cmp2,cmp3)-(cmp1.union(cmp2,cmp3)-cmp1.union(cmp2))-(cmp1.union(cmp2,cmp3)-cmp1.union(cmp3))-(cmp1.union(cmp2,cmp3)-cmp2.union(cmp3))-cmp1.intersection(cmp2,cmp3)\n",
        "    return list(sorted(list(res)))"
      ],
      "execution_count": null,
      "outputs": []
    },
    {
      "cell_type": "code",
      "metadata": {
        "id": "k3rmYhsqYmsf",
        "colab_type": "code",
        "colab": {
          "base_uri": "https://localhost:8080/",
          "height": 35
        },
        "outputId": "283883f6-dd1d-47f4-fd71-55ac69195450"
      },
      "source": [
        "companies = [\"coolcompany\", \"nicecompany\", \"legendarycompany\"]\n",
        "startupName(companies)"
      ],
      "execution_count": null,
      "outputs": [
        {
          "output_type": "execute_result",
          "data": {
            "text/plain": [
              "['e', 'l']"
            ]
          },
          "metadata": {
            "tags": []
          },
          "execution_count": 25
        }
      ]
    },
    {
      "cell_type": "markdown",
      "metadata": {
        "id": "EqXsDU5Ga-yL",
        "colab_type": "text"
      },
      "source": [
        "#Day8 (5/7) \n",
        "## Words Recognition "
      ]
    },
    {
      "cell_type": "code",
      "metadata": {
        "id": "fGJa6wddbGPq",
        "colab_type": "code",
        "colab": {}
      },
      "source": [
        "# Use Lambda Funtion \n",
        "word1 = 'program'\n",
        "word2 = 'develop'\n"
      ],
      "execution_count": null,
      "outputs": []
    },
    {
      "cell_type": "code",
      "metadata": {
        "id": "LWmNrzvUvZGG",
        "colab_type": "code",
        "colab": {
          "base_uri": "https://localhost:8080/",
          "height": 35
        },
        "outputId": "9427732b-37fd-4da5-bda8-d7e47fc3756e"
      },
      "source": [
        "unq1 = set(word1).difference(set(word2))\n",
        "unq1"
      ],
      "execution_count": null,
      "outputs": [
        {
          "output_type": "execute_result",
          "data": {
            "text/plain": [
              "{'a', 'g', 'm', 'r'}"
            ]
          },
          "metadata": {
            "tags": []
          },
          "execution_count": 11
        }
      ]
    },
    {
      "cell_type": "code",
      "metadata": {
        "id": "9tYwxSXWwEPA",
        "colab_type": "code",
        "colab": {
          "base_uri": "https://localhost:8080/",
          "height": 36
        },
        "outputId": "83ecb453-bb27-4593-da3c-a9c88d418962"
      },
      "source": [
        "''.join(sorted(unq1))"
      ],
      "execution_count": null,
      "outputs": [
        {
          "output_type": "execute_result",
          "data": {
            "application/vnd.google.colaboratory.intrinsic": {
              "type": "string"
            },
            "text/plain": [
              "'agmr'"
            ]
          },
          "metadata": {
            "tags": []
          },
          "execution_count": 24
        }
      ]
    },
    {
      "cell_type": "code",
      "metadata": {
        "id": "WEL9cyKovd4y",
        "colab_type": "code",
        "colab": {
          "base_uri": "https://localhost:8080/",
          "height": 35
        },
        "outputId": "e2b5afaf-ec81-4e78-cc4a-a9835cfc8d2e"
      },
      "source": [
        "unq2 = set(word2).difference(set(word1))\n",
        "unq2"
      ],
      "execution_count": null,
      "outputs": [
        {
          "output_type": "execute_result",
          "data": {
            "text/plain": [
              "{'d', 'e', 'l', 'v'}"
            ]
          },
          "metadata": {
            "tags": []
          },
          "execution_count": 16
        }
      ]
    },
    {
      "cell_type": "code",
      "metadata": {
        "id": "IIVkhiVCz2Dk",
        "colab_type": "code",
        "colab": {
          "base_uri": "https://localhost:8080/",
          "height": 36
        },
        "outputId": "4f9ef3e6-1d2b-4c09-f24d-5a6b9f0c5ec6"
      },
      "source": [
        "''.join(sorted(unq2))"
      ],
      "execution_count": null,
      "outputs": [
        {
          "output_type": "execute_result",
          "data": {
            "application/vnd.google.colaboratory.intrinsic": {
              "type": "string"
            },
            "text/plain": [
              "'delv'"
            ]
          },
          "metadata": {
            "tags": []
          },
          "execution_count": 23
        }
      ]
    },
    {
      "cell_type": "code",
      "metadata": {
        "id": "7FXnmdfYvtsT",
        "colab_type": "code",
        "colab": {
          "base_uri": "https://localhost:8080/",
          "height": 36
        },
        "outputId": "642e9ff1-74e7-4bd4-8942-c28bb91e513f"
      },
      "source": [
        "''.join(sorted(i for i in unq2))"
      ],
      "execution_count": null,
      "outputs": [
        {
          "output_type": "execute_result",
          "data": {
            "application/vnd.google.colaboratory.intrinsic": {
              "type": "string"
            },
            "text/plain": [
              "'delv'"
            ]
          },
          "metadata": {
            "tags": []
          },
          "execution_count": 18
        }
      ]
    },
    {
      "cell_type": "code",
      "metadata": {
        "id": "xSLfjlSnvubd",
        "colab_type": "code",
        "colab": {}
      },
      "source": [
        "def wordsRecognition(word1, word2):\n",
        "    def getIdentifier(w1, w2):\n",
        "        return ''.join(sorted(i for i in set(w1).difference(set(w2))))\n",
        "    return [getIdentifier(word1, word2), getIdentifier(word2, word1)]\n"
      ],
      "execution_count": null,
      "outputs": []
    },
    {
      "cell_type": "code",
      "metadata": {
        "id": "-5Q67Br3zZ-s",
        "colab_type": "code",
        "colab": {
          "base_uri": "https://localhost:8080/",
          "height": 35
        },
        "outputId": "10f15835-30a9-41df-9a3d-370883d34098"
      },
      "source": [
        "word1 = 'program'\n",
        "word2 = 'develop'\n",
        "wordsRecognition(word1, word2)\n"
      ],
      "execution_count": null,
      "outputs": [
        {
          "output_type": "execute_result",
          "data": {
            "text/plain": [
              "['agmr', 'delv']"
            ]
          },
          "metadata": {
            "tags": []
          },
          "execution_count": 26
        }
      ]
    },
    {
      "cell_type": "code",
      "metadata": {
        "id": "fKeCMVJS0O-I",
        "colab_type": "code",
        "colab": {}
      },
      "source": [
        ""
      ],
      "execution_count": null,
      "outputs": []
    },
    {
      "cell_type": "markdown",
      "metadata": {
        "id": "OhguxA0bH-w6",
        "colab_type": "text"
      },
      "source": [
        "# Day9(7/7/2020) \n",
        "## Transpose Dictionary \n",
        "\n",
        "---\n",
        "\n",
        "1. Flow of though for solving this problems  \n",
        "* Sort Dictionary by Value \n",
        "* Iterate through a dictionary \n",
        "---\n",
        "\n",
        "2. \n",
        "\n",
        "* Input -->  initial dictionary. Both keys and values of the dictionary are guaranteed to be strings that contain only English letters. It is also guaranteed that all dictionary values are unique.\n",
        "\n",
        "\n",
        "\n",
        "`scriptByExtension = {\n",
        "  \"validate\": \"py\",\n",
        "  \"getLimits\": \"md\",\n",
        "  \"generateOutputs\": \"json\"\n",
        "}`\n",
        "\n",
        "* Output --> Array of pairs `[extension, script]`, sorted `lexicographically` by the `extension`.\n",
        "\n",
        "`transposeDictionary(scriptByExtension) = [[\"json\", \"generateOutputs\"], \n",
        "                                          [\"md\", \"getLimits\"], \n",
        "                                          [\"py\", \"validate\"]]`\n"
      ]
    },
    {
      "cell_type": "code",
      "metadata": {
        "id": "TT3loDnjKG_5",
        "colab_type": "code",
        "colab": {}
      },
      "source": [
        "def transposeDictionary(scriptByExtension):\n",
        "    return [[value, key] for key, value in sorted(scriptByExtension.items(), key=lambda item: item[1])]"
      ],
      "execution_count": null,
      "outputs": []
    },
    {
      "cell_type": "code",
      "metadata": {
        "id": "GMK_EnSvKKMF",
        "colab_type": "code",
        "colab": {
          "base_uri": "https://localhost:8080/",
          "height": 35
        },
        "outputId": "c933ea24-413e-4969-e798-9ec5d03832f1"
      },
      "source": [
        "scriptByExtension = {\n",
        "  \"validate\": \"py\",\n",
        "  \"getLimits\": \"md\",\n",
        "  \"generateOutputs\": \"json\"\n",
        "}\n",
        "\n",
        "transposeDictionary(scriptByExtension)"
      ],
      "execution_count": null,
      "outputs": [
        {
          "output_type": "execute_result",
          "data": {
            "text/plain": [
              "[['json', 'generateOutputs'], ['md', 'getLimits'], ['py', 'validate']]"
            ]
          },
          "metadata": {
            "tags": []
          },
          "execution_count": 3
        }
      ]
    },
    {
      "cell_type": "markdown",
      "metadata": {
        "id": "988kSMH308c3",
        "colab_type": "text"
      },
      "source": [
        "# Collections — Container datatypes\n",
        "https://docs.python.org/3/library/collections.html\n"
      ]
    },
    {
      "cell_type": "markdown",
      "metadata": {
        "id": "iMCa_KUHoQOx",
        "colab_type": "text"
      },
      "source": [
        "# Day10 (6/10/7) \n",
        "## Doodled Password \n",
        "\n",
        "\n",
        "![Password Generation](https://drive.google.com/uc?export=view&id=1M5Vij47wbzjpU-YUMvz6UrU_peJDIc2H)\n",
        "\n",
        "---\n",
        "\n",
        "Given a list of `digits` as they are written in the clockwise order, find all other combinations the password could possibly have.\n",
        "\n",
        "Example\n",
        "\n",
        "For `digits = [1, 2, 3, 4, 5]`, the output should be\n",
        "\n",
        "`doodledPassword(digits) = [[1, 2, 3, 4, 5], [2, 3, 4, 5, 1], [3, 4, 5, 1, 2],\n",
        "                           [4, 5, 1, 2, 3], [5, 1, 2, 3, 4]]`\n"
      ]
    },
    {
      "cell_type": "code",
      "metadata": {
        "id": "rzWJaqvZpUeI",
        "colab_type": "code",
        "colab": {}
      },
      "source": [
        " digits = [1, 2, 3, 4, 5]"
      ],
      "execution_count": null,
      "outputs": []
    },
    {
      "cell_type": "code",
      "metadata": {
        "id": "gxCR_KyfpZoI",
        "colab_type": "code",
        "colab": {}
      },
      "source": [
        "from collections import deque "
      ],
      "execution_count": null,
      "outputs": []
    },
    {
      "cell_type": "code",
      "metadata": {
        "id": "nvBC7UYCpi0N",
        "colab_type": "code",
        "colab": {}
      },
      "source": [
        "n = len(digits)"
      ],
      "execution_count": null,
      "outputs": []
    },
    {
      "cell_type": "code",
      "metadata": {
        "id": "GrxrQhLiqTQ8",
        "colab_type": "code",
        "colab": {
          "base_uri": "https://localhost:8080/",
          "height": 107
        },
        "outputId": "539d2498-4b98-4963-9243-4c2ffc1a359f"
      },
      "source": [
        "res = [deque(digits) for _ in range(n)]\n",
        "res"
      ],
      "execution_count": null,
      "outputs": [
        {
          "output_type": "execute_result",
          "data": {
            "text/plain": [
              "[deque([1, 2, 3, 4, 5]),\n",
              " deque([1, 2, 3, 4, 5]),\n",
              " deque([1, 2, 3, 4, 5]),\n",
              " deque([1, 2, 3, 4, 5]),\n",
              " deque([1, 2, 3, 4, 5])]"
            ]
          },
          "metadata": {
            "tags": []
          },
          "execution_count": 6
        }
      ]
    },
    {
      "cell_type": "code",
      "metadata": {
        "id": "EtsWMpZFuTgc",
        "colab_type": "code",
        "colab": {}
      },
      "source": [
        "# inital a \n",
        "a = deque([1,2,3,4,5])"
      ],
      "execution_count": null,
      "outputs": []
    },
    {
      "cell_type": "code",
      "metadata": {
        "id": "9npHOOtQuXCY",
        "colab_type": "code",
        "colab": {
          "base_uri": "https://localhost:8080/",
          "height": 35
        },
        "outputId": "67e5e7ac-15f2-4b82-f049-9cf9c219a69c"
      },
      "source": [
        "a0 = a\n",
        "a0.rotate(0)\n",
        "a0"
      ],
      "execution_count": null,
      "outputs": [
        {
          "output_type": "execute_result",
          "data": {
            "text/plain": [
              "deque([1, 2, 3, 4, 5])"
            ]
          },
          "metadata": {
            "tags": []
          },
          "execution_count": 39
        }
      ]
    },
    {
      "cell_type": "code",
      "metadata": {
        "id": "vhM4X3SwwZiU",
        "colab_type": "code",
        "colab": {
          "base_uri": "https://localhost:8080/",
          "height": 35
        },
        "outputId": "a6f91127-8219-4667-e97f-9091e06a2d9c"
      },
      "source": [
        "a"
      ],
      "execution_count": null,
      "outputs": [
        {
          "output_type": "execute_result",
          "data": {
            "text/plain": [
              "deque([1, 2, 3, 4, 5])"
            ]
          },
          "metadata": {
            "tags": []
          },
          "execution_count": 40
        }
      ]
    },
    {
      "cell_type": "code",
      "metadata": {
        "id": "zpF0IdY_uZoJ",
        "colab_type": "code",
        "colab": {
          "base_uri": "https://localhost:8080/",
          "height": 35
        },
        "outputId": "7262b872-dc82-4508-f5cc-ace3e79d2a32"
      },
      "source": [
        "a1 = a.copy()\n",
        "a1.rotate(-1)\n",
        "a1"
      ],
      "execution_count": null,
      "outputs": [
        {
          "output_type": "execute_result",
          "data": {
            "text/plain": [
              "deque([2, 3, 4, 5, 1])"
            ]
          },
          "metadata": {
            "tags": []
          },
          "execution_count": 41
        }
      ]
    },
    {
      "cell_type": "code",
      "metadata": {
        "id": "YMJJW_lOwhK-",
        "colab_type": "code",
        "colab": {
          "base_uri": "https://localhost:8080/",
          "height": 35
        },
        "outputId": "56a1fb4c-2f0a-4076-f9a9-87780f719a2d"
      },
      "source": [
        "a"
      ],
      "execution_count": null,
      "outputs": [
        {
          "output_type": "execute_result",
          "data": {
            "text/plain": [
              "deque([1, 2, 3, 4, 5])"
            ]
          },
          "metadata": {
            "tags": []
          },
          "execution_count": 42
        }
      ]
    },
    {
      "cell_type": "code",
      "metadata": {
        "id": "QukhwJvowLEl",
        "colab_type": "code",
        "colab": {
          "base_uri": "https://localhost:8080/",
          "height": 35
        },
        "outputId": "11e4c019-0c67-4047-e4f0-0a6b3a19c58b"
      },
      "source": [
        "a2 = a.copy()\n",
        "a2.rotate(-2)\n",
        "a2"
      ],
      "execution_count": null,
      "outputs": [
        {
          "output_type": "execute_result",
          "data": {
            "text/plain": [
              "deque([3, 4, 5, 1, 2])"
            ]
          },
          "metadata": {
            "tags": []
          },
          "execution_count": 43
        }
      ]
    },
    {
      "cell_type": "code",
      "metadata": {
        "id": "5HJCNlC6wO7J",
        "colab_type": "code",
        "colab": {
          "base_uri": "https://localhost:8080/",
          "height": 35
        },
        "outputId": "a8c45fb1-2a9b-4162-c741-6dcaa2f9d965"
      },
      "source": [
        "a"
      ],
      "execution_count": null,
      "outputs": [
        {
          "output_type": "execute_result",
          "data": {
            "text/plain": [
              "deque([1, 2, 3, 4, 5])"
            ]
          },
          "metadata": {
            "tags": []
          },
          "execution_count": 44
        }
      ]
    },
    {
      "cell_type": "code",
      "metadata": {
        "id": "Jsm7q_Pywstv",
        "colab_type": "code",
        "colab": {
          "base_uri": "https://localhost:8080/",
          "height": 35
        },
        "outputId": "d7e76b9f-d03f-4c42-bc6c-d51d90c095ba"
      },
      "source": [
        "a3 = a.copy()\n",
        "a3.rotate(-3)\n",
        "a3"
      ],
      "execution_count": null,
      "outputs": [
        {
          "output_type": "execute_result",
          "data": {
            "text/plain": [
              "deque([4, 5, 1, 2, 3])"
            ]
          },
          "metadata": {
            "tags": []
          },
          "execution_count": 45
        }
      ]
    },
    {
      "cell_type": "code",
      "metadata": {
        "id": "kKa0OA3wxMdt",
        "colab_type": "code",
        "colab": {
          "base_uri": "https://localhost:8080/",
          "height": 35
        },
        "outputId": "b161b0b0-2487-4b47-eacb-965c9ce68fc3"
      },
      "source": [
        "a4 = a.copy()\n",
        "a4.rotate(-4)\n",
        "a4"
      ],
      "execution_count": null,
      "outputs": [
        {
          "output_type": "execute_result",
          "data": {
            "text/plain": [
              "deque([5, 1, 2, 3, 4])"
            ]
          },
          "metadata": {
            "tags": []
          },
          "execution_count": 46
        }
      ]
    },
    {
      "cell_type": "code",
      "metadata": {
        "id": "1OH8aDaExTMT",
        "colab_type": "code",
        "colab": {
          "base_uri": "https://localhost:8080/",
          "height": 35
        },
        "outputId": "429e2c4a-fd48-4f14-f589-c876b2efee5f"
      },
      "source": [
        "# original a\n",
        "a"
      ],
      "execution_count": null,
      "outputs": [
        {
          "output_type": "execute_result",
          "data": {
            "text/plain": [
              "deque([1, 2, 3, 4, 5])"
            ]
          },
          "metadata": {
            "tags": []
          },
          "execution_count": 47
        }
      ]
    },
    {
      "cell_type": "code",
      "metadata": {
        "id": "XlcwFpZKxVMz",
        "colab_type": "code",
        "colab": {
          "base_uri": "https://localhost:8080/",
          "height": 107
        },
        "outputId": "2053347d-d6ac-4872-fafd-1cac3f5f4bad"
      },
      "source": [
        "res"
      ],
      "execution_count": null,
      "outputs": [
        {
          "output_type": "execute_result",
          "data": {
            "text/plain": [
              "[deque([1, 2, 3, 4, 5]),\n",
              " deque([1, 2, 3, 4, 5]),\n",
              " deque([1, 2, 3, 4, 5]),\n",
              " deque([1, 2, 3, 4, 5]),\n",
              " deque([1, 2, 3, 4, 5])]"
            ]
          },
          "metadata": {
            "tags": []
          },
          "execution_count": 49
        }
      ]
    },
    {
      "cell_type": "code",
      "metadata": {
        "id": "tMFEeiKMxf5O",
        "colab_type": "code",
        "colab": {
          "base_uri": "https://localhost:8080/",
          "height": 35
        },
        "outputId": "6838d5f5-1ec2-4e1e-f622-d4130d7046f6"
      },
      "source": [
        "lst = [1,2,3,4,5]"
      ],
      "execution_count": null,
      "outputs": [
        {
          "output_type": "execute_result",
          "data": {
            "text/plain": [
              "1"
            ]
          },
          "metadata": {
            "tags": []
          },
          "execution_count": 50
        }
      ]
    },
    {
      "cell_type": "code",
      "metadata": {
        "id": "Rzab-pZSxtnR",
        "colab_type": "code",
        "colab": {
          "base_uri": "https://localhost:8080/",
          "height": 35
        },
        "outputId": "2c1bf6e4-c289-4d3e-85bc-fb091d2d52e7"
      },
      "source": [
        "lst[-5] == lst[0]"
      ],
      "execution_count": null,
      "outputs": [
        {
          "output_type": "execute_result",
          "data": {
            "text/plain": [
              "True"
            ]
          },
          "metadata": {
            "tags": []
          },
          "execution_count": 52
        }
      ]
    },
    {
      "cell_type": "code",
      "metadata": {
        "id": "0H4_iRdIxzGK",
        "colab_type": "code",
        "colab": {
          "base_uri": "https://localhost:8080/",
          "height": 35
        },
        "outputId": "aa28edfa-f652-4627-e7f4-8123218be3a9"
      },
      "source": [
        "lst[4] == lst[-1]"
      ],
      "execution_count": null,
      "outputs": [
        {
          "output_type": "execute_result",
          "data": {
            "text/plain": [
              "True"
            ]
          },
          "metadata": {
            "tags": []
          },
          "execution_count": 53
        }
      ]
    },
    {
      "cell_type": "code",
      "metadata": {
        "id": "lxEFcniNx3_d",
        "colab_type": "code",
        "colab": {}
      },
      "source": [
        "# use map to iterate a list \n",
        "# at each queue rotate it with \n",
        "# idx --> 0, 1, 2, 3, 4\n",
        "# rotate --> 0, -1, -2, -3, -4"
      ],
      "execution_count": null,
      "outputs": []
    },
    {
      "cell_type": "code",
      "metadata": {
        "id": "ohrC8bOR20oD",
        "colab_type": "code",
        "colab": {
          "base_uri": "https://localhost:8080/",
          "height": 107
        },
        "outputId": "0f065f10-b055-4ec6-85e7-52706776fbd8"
      },
      "source": [
        "for que, idx in enumerate(res):\n",
        "    print(que, idx)"
      ],
      "execution_count": null,
      "outputs": [
        {
          "output_type": "stream",
          "text": [
            "0 deque([1, 2, 3, 4, 5])\n",
            "1 deque([1, 2, 3, 4, 5])\n",
            "2 deque([1, 2, 3, 4, 5])\n",
            "3 deque([1, 2, 3, 4, 5])\n",
            "4 deque([1, 2, 3, 4, 5])\n"
          ],
          "name": "stdout"
        }
      ]
    },
    {
      "cell_type": "markdown",
      "metadata": {
        "id": "S_8X0hkg4Pj3",
        "colab_type": "text"
      },
      "source": [
        "# Flow of thoughs \n",
        "\n",
        "+ [Getting idex of item while processing a list using map](https://stackoverflow.com/questions/5432762/getting-index-of-item-while-processing-a-list-using-map-in-python)\n",
        "\n",
        "1. using enumerate() to get value & index of corresponding value of each elements inside list \n",
        "\n",
        "+ [Using QUEUE function from COLLECTIONS](https://docs.python.org/3/library/collections.html#collections.deque)\n",
        "\n",
        "1. using rotate() at each queue with the follow-up rule: \n",
        "* at each queue have index: 0, 1, 2, 3, 4,...n /n \n",
        "we rotate for iterators with the corresponding negative values of index ==> rotate(i) ==> i = -idx \n",
        "\n",
        "\n"
      ]
    },
    {
      "cell_type": "code",
      "metadata": {
        "id": "0CpiL10Q3oJ9",
        "colab_type": "code",
        "colab": {}
      },
      "source": [
        "from collections import deque\n",
        "\n",
        "def doodledPassword(digits):\n",
        "    n = len(digits)\n",
        "    res = [deque(digits) for _ in range(n)]\n",
        "    deque(map(lambda x: x[1].rotate(-x[0]), enumerate(res)), 0)\n",
        "    return [list(d) for d in res]"
      ],
      "execution_count": null,
      "outputs": []
    },
    {
      "cell_type": "code",
      "metadata": {
        "id": "YWwI6nLY35MK",
        "colab_type": "code",
        "colab": {
          "base_uri": "https://localhost:8080/",
          "height": 107
        },
        "outputId": "7a2cec8d-ad7e-488e-cbf8-48fb57c6f5c1"
      },
      "source": [
        "digits = [1, 2, 3, 4, 5]\n",
        "doodledPassword(digits)"
      ],
      "execution_count": null,
      "outputs": [
        {
          "output_type": "execute_result",
          "data": {
            "text/plain": [
              "[[1, 2, 3, 4, 5],\n",
              " [2, 3, 4, 5, 1],\n",
              " [3, 4, 5, 1, 2],\n",
              " [4, 5, 1, 2, 3],\n",
              " [5, 1, 2, 3, 4]]"
            ]
          },
          "metadata": {
            "tags": []
          },
          "execution_count": 59
        }
      ]
    },
    {
      "cell_type": "markdown",
      "metadata": {
        "id": "PksMuFY-uyy1",
        "colab_type": "text"
      },
      "source": [
        "# Day11 (11/7) \n",
        "## Frequency Analysis \n",
        "\n"
      ]
    },
    {
      "cell_type": "code",
      "metadata": {
        "id": "iOpWQatnu8GS",
        "colab_type": "code",
        "colab": {}
      },
      "source": [
        "from collections import Counter \n",
        "def frequencyAnalysis(encryptedText):\n",
        "    return Counter(encryptedText).most_common(1)[0][0]"
      ],
      "execution_count": 2,
      "outputs": []
    },
    {
      "cell_type": "code",
      "metadata": {
        "id": "Hwka_GaCvfqn",
        "colab_type": "code",
        "colab": {
          "base_uri": "https://localhost:8080/",
          "height": 36
        },
        "outputId": "c4aed431-9c47-4da1-d415-69dfc0661cd3"
      },
      "source": [
        "encryptedText = \"$~NmiNmim$/NVeirp@dlzrCCCCfFfQQQ\"\n",
        "frequencyAnalysis(encryptedText)"
      ],
      "execution_count": 3,
      "outputs": [
        {
          "output_type": "execute_result",
          "data": {
            "application/vnd.google.colaboratory.intrinsic": {
              "type": "string"
            },
            "text/plain": [
              "'C'"
            ]
          },
          "metadata": {
            "tags": []
          },
          "execution_count": 3
        }
      ]
    },
    {
      "cell_type": "code",
      "metadata": {
        "id": "TwfJFx2Fwx7t",
        "colab_type": "code",
        "colab": {
          "base_uri": "https://localhost:8080/",
          "height": 36
        },
        "outputId": "1b15664d-a0b5-4637-8785-d38fd5987ee7"
      },
      "source": [
        "encryptedText = \"Agoodglassinthebishop'shostelinthedevil'sseattwenty-onedegreesandthirteenminutesnortheastandbynorthmainbranchseventhlimbeastsideshootfromthelefteyeofthedeath's-headabeelinefromthetreethroughtheshotfiftyfeetout.\"\n",
        "frequencyAnalysis(encryptedText)"
      ],
      "execution_count": 4,
      "outputs": [
        {
          "output_type": "execute_result",
          "data": {
            "application/vnd.google.colaboratory.intrinsic": {
              "type": "string"
            },
            "text/plain": [
              "'e'"
            ]
          },
          "metadata": {
            "tags": []
          },
          "execution_count": 4
        }
      ]
    },
    {
      "cell_type": "markdown",
      "metadata": {
        "id": "XB4luOlkzL1U",
        "colab_type": "text"
      },
      "source": [
        "\n",
        "# Itertools — Functions creating iterators for efficient looping\n",
        "https://docs.python.org/3/library/itertools.html\n"
      ]
    },
    {
      "cell_type": "code",
      "metadata": {
        "id": "lWXk9PyCzPfF",
        "colab_type": "code",
        "colab": {}
      },
      "source": [
        ""
      ],
      "execution_count": null,
      "outputs": []
    }
  ]
}